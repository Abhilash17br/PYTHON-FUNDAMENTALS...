{
 "cells": [
  {
   "cell_type": "markdown",
   "id": "0987fada",
   "metadata": {},
   "source": [
    "# OOPS"
   ]
  },
  {
   "cell_type": "code",
   "execution_count": 90,
   "id": "47aa1787",
   "metadata": {},
   "outputs": [
    {
     "name": "stdout",
     "output_type": "stream",
     "text": [
      "Rolf smith\n",
      "[70, 88, 90, 99]\n",
      "<class '__main__.Student'>\n"
     ]
    }
   ],
   "source": [
    "class Student:                                           # class defination..\n",
    "    \n",
    "    def __init__(self,new_name,new_grades):              # dunder init functions\n",
    "        self.name = new_name\n",
    "        self.grades = new_grades\n",
    "        \n",
    "    def average(self):                                   # class method..    \n",
    "        return sum(self.grades)/len(self.grades)\n",
    "\n",
    "student_one = Student(\"Rolf smith\",[70,88,90,99])\n",
    "\n",
    "print(student_one.name)\n",
    "print(student_one.grades)\n",
    "print(student_one.__class__)"
   ]
  },
  {
   "cell_type": "code",
   "execution_count": 5,
   "id": "b87c2dcf",
   "metadata": {},
   "outputs": [],
   "source": [
    "# the student_one is the object created and values are passed from it to dunder init function.\n",
    "# we dont neeed to dunded init method, as soon as an object is created , the method is called its-self...\n",
    "# in dunder init function, we have self , which is blank and new_name, new_grade is the values passes through object.\n",
    "# self is blank until, self.name = new_name is executed..\n",
    "# we can access the name in the class by , calling student_one.name"
   ]
  },
  {
   "cell_type": "code",
   "execution_count": 14,
   "id": "d23ec63b",
   "metadata": {},
   "outputs": [
    {
     "name": "stdout",
     "output_type": "stream",
     "text": [
      "86.75\n"
     ]
    }
   ],
   "source": [
    "class Student:\n",
    "    \n",
    "    def __init__(self,new_name,new_grades):        #dunder init functions\n",
    "        self.name = new_name\n",
    "        self.grades = new_grades\n",
    "        \n",
    "    def average(self):                              # method\n",
    "        return sum(self.grades)/len(self.grades)\n",
    "\n",
    "student_one = Student(\"Rolf smith\",[70,88,90,99])   # object 1\n",
    "student_two = Student(\"Jose\",[50,60,99,100])        # object 2\n",
    "\n",
    "# print(student_one.name)\n",
    "# print(student_two.name)\n",
    "# print(student_one.grades)\n",
    "# print(student_two.grades)\n",
    "# print(student_one.average())\n",
    "# print(student_two.average())\n",
    "# print(Student.average())                          # This will give you Error...\n",
    "print(Student.average(student_one))                 # can be done also like this.."
   ]
  },
  {
   "cell_type": "code",
   "execution_count": 24,
   "id": "4b8c3771",
   "metadata": {},
   "outputs": [
    {
     "name": "stdout",
     "output_type": "stream",
     "text": [
      "86.75\n",
      "[70, 88, 90, 99]\n"
     ]
    }
   ],
   "source": [
    "class Student:\n",
    "    \n",
    "    def __init__(self,new_name,new_grades):  \n",
    "        self.name = new_name\n",
    "        self.grades = new_grades\n",
    "        \n",
    "    def average(self):\n",
    "        return sum(self.grades)/len(self.grades)\n",
    "\n",
    "student_one = Student(\"Rolf smith\",[70,88,90,99]) \n",
    "\n",
    "def average(student):\n",
    "        return sum(student.grades)/len(student.grades)\n",
    "    \n",
    "print(average(student_one))\n",
    "\n",
    "print(student_one.grades)"
   ]
  },
  {
   "cell_type": "code",
   "execution_count": 25,
   "id": "62e80d3b",
   "metadata": {},
   "outputs": [
    {
     "name": "stdout",
     "output_type": "stream",
     "text": [
      "Friends:86.75\n"
     ]
    }
   ],
   "source": [
    "class Student:\n",
    "    \n",
    "    def __init__(self,new_name,new_grades):  \n",
    "        self.name = new_name\n",
    "        self.grades = new_grades\n",
    "        \n",
    "    def average(self,name):\n",
    "        self.name = name\n",
    "        return f\"{self.name}:{sum(self.grades)/len(self.grades)}\"\n",
    "\n",
    "student_one = Student(\"Rolf smith\",[70,88,90,99]) \n",
    "student_two = Student(\"Jose\",[50,60,99,100])\n",
    "\n",
    "print(student_one.average(\"Friends\"))\n"
   ]
  },
  {
   "cell_type": "code",
   "execution_count": 27,
   "id": "59d9cb40",
   "metadata": {},
   "outputs": [
    {
     "name": "stdout",
     "output_type": "stream",
     "text": [
      "<<The Matrix>> byWachowski\n"
     ]
    }
   ],
   "source": [
    "class Movie:\n",
    "    def __init__(self, new_name, new_director):\n",
    "        self.name = new_name\n",
    "        self.director = new_director\n",
    "\n",
    "    def print_info(self):\n",
    "        print(f\"<<{self.name}>> by{self.director}\")\n",
    "\n",
    "my_movie = Movie('The Matrix', 'Wachowski')\n",
    "\n",
    "my_movie.print_info()"
   ]
  },
  {
   "cell_type": "code",
   "execution_count": 29,
   "id": "a4afed81",
   "metadata": {},
   "outputs": [
    {
     "name": "stdout",
     "output_type": "stream",
     "text": [
      "The Matrix\n"
     ]
    }
   ],
   "source": [
    "class Movie:\n",
    "    def __init__(self, new_name, new_director):\n",
    "        self.name = new_name\n",
    "        self.director = new_director\n",
    "        \n",
    "print(Movie(\"The Matrix\",1995).name)"
   ]
  },
  {
   "cell_type": "markdown",
   "id": "71078ebb",
   "metadata": {},
   "source": [
    "# special methods.. magic methods.."
   ]
  },
  {
   "cell_type": "code",
   "execution_count": 32,
   "id": "c8977611",
   "metadata": {},
   "outputs": [
    {
     "name": "stdout",
     "output_type": "stream",
     "text": [
      "<class 'list'>\n"
     ]
    }
   ],
   "source": [
    "class Student:\n",
    "    \n",
    "    def __init__(self,name):   # dunder init method.. this is called automatically.\n",
    "        self.name = name\n",
    "        \n",
    "movies = [\"Matrix\" , \"Finding nemo\"]\n",
    "\n",
    "print(movies.__class__)"
   ]
  },
  {
   "cell_type": "code",
   "execution_count": 34,
   "id": "fd864303",
   "metadata": {},
   "outputs": [
    {
     "name": "stdout",
     "output_type": "stream",
     "text": [
      "<class 'str'>\n"
     ]
    }
   ],
   "source": [
    "print(\"hi\".__class__)"
   ]
  },
  {
   "cell_type": "code",
   "execution_count": 2,
   "id": "3a91b608",
   "metadata": {},
   "outputs": [
    {
     "name": "stdout",
     "output_type": "stream",
     "text": [
      "['Fiesta', 'Focus']\n",
      "2\n"
     ]
    }
   ],
   "source": [
    "class garage:\n",
    "    def __init__(self):\n",
    "        self.cars = []\n",
    "        \n",
    "ford = garage()                  # object calling\n",
    "ford.cars.append(\"Fiesta\")       # adding values to empty class property..\n",
    "ford.cars.append(\"Focus\")        # adding values to empty class property..\n",
    "\n",
    "print(ford.cars)\n",
    "print(len(ford.cars))\n",
    "# print(len(ford)) # gives error., so we define an len dunder function\n",
    "# we cannot get the len of the object, so for len(object) to return its length we can create special/magic dunder function\n",
    "# so that we print len of object, it must return the length.."
   ]
  },
  {
   "cell_type": "code",
   "execution_count": 56,
   "id": "8950f958",
   "metadata": {},
   "outputs": [
    {
     "name": "stdout",
     "output_type": "stream",
     "text": [
      "2\n",
      "2\n"
     ]
    }
   ],
   "source": [
    "class garage:\n",
    "    def __init__(self):\n",
    "        self.cars = []\n",
    "        \n",
    "    def __len__(self):           # special dunder function....\n",
    "        return len(self.cars)\n",
    "\n",
    "ford = garage()\n",
    "ford.cars.append(\"Fiesta\")\n",
    "ford.cars.append(\"Focus\")\n",
    "\n",
    "print(len(ford))\n",
    "print(garage.__len__(ford))\n",
    "\n",
    "# print(ford[0]) # gives error.,so we can get the length , but we cannot slice through,\n",
    "# so inorder to make the object iterable we can create special dunder function called getitem- which makes object iterable."
   ]
  },
  {
   "cell_type": "code",
   "execution_count": 3,
   "id": "20958a62",
   "metadata": {},
   "outputs": [
    {
     "name": "stdout",
     "output_type": "stream",
     "text": [
      "Focus\n",
      "Fiesta\n"
     ]
    }
   ],
   "source": [
    "class garage:\n",
    "    def __init__(self):\n",
    "        self.cars = []\n",
    "        \n",
    "    def __len__(self):                 # special dunder function....to get len of object\n",
    "        return len(self.cars)\n",
    "    \n",
    "    def __getitem__(self,i):           # special dunder function....to make object iterable..\n",
    "        return self.cars[i]\n",
    "\n",
    "ford = garage()\n",
    "ford.cars.append(\"Fiesta\")\n",
    "ford.cars.append(\"Focus\")\n",
    "\n",
    "print(ford[1])                         # getitem method in action.....\n",
    "print(garage.__getitem__(ford,0))"
   ]
  },
  {
   "cell_type": "code",
   "execution_count": 62,
   "id": "356afa4c",
   "metadata": {},
   "outputs": [
    {
     "name": "stdout",
     "output_type": "stream",
     "text": [
      "Fiesta\n",
      "Focus\n"
     ]
    }
   ],
   "source": [
    "# note:\n",
    "# as getitem is defines , we can use the object to iterate things in it..\n",
    "# getitem methods makes an object iterable...\n",
    "class garage:\n",
    "    def __init__(self):\n",
    "        self.cars = []\n",
    "        \n",
    "    def __len__(self):\n",
    "        return len(self.cars)\n",
    "    \n",
    "    def __getitem__(self,i):\n",
    "        return self.cars[i]\n",
    "\n",
    "ford = garage()\n",
    "ford.cars.append(\"Fiesta\")\n",
    "ford.cars.append(\"Focus\")\n",
    "\n",
    "for car in ford:         # perfect example that object because of getitem dunder function.. is iterable...\n",
    "    print(car)"
   ]
  },
  {
   "cell_type": "code",
   "execution_count": 67,
   "id": "c057fff8",
   "metadata": {},
   "outputs": [
    {
     "name": "stdout",
     "output_type": "stream",
     "text": [
      "2\n",
      "Fiesta\n",
      "Garage with 2 cars.\n"
     ]
    }
   ],
   "source": [
    "class garage:\n",
    "    def __init__(self):\n",
    "        self.cars = []\n",
    "        \n",
    "    def __len__(self):\n",
    "        return len(self.cars)\n",
    "    \n",
    "    def __getitem__(self,i):\n",
    "        return self.cars[i]\n",
    "    \n",
    "    def __repr__(self):                           # special dunder function....\n",
    "        return f'<Garage {self.cars}>'\n",
    "    \n",
    "    def __str__(self):                            # special dunder function....\n",
    "        return f'Garage with {len(self)} cars.'\n",
    "    \n",
    "ford = garage()\n",
    "ford.cars.append(\"Fiesta\")\n",
    "ford.cars.append(\"Focus\")\n",
    "\n",
    "print(len(ford))  # len dunder method will be executed.\n",
    "print(ford[0])    # getitems dunder method will be executed. \n",
    "print(ford)       # str dunder method will be executed.\n",
    "\n",
    "# repr returns the values in form of a code, will be useful during debugging..\n",
    "# every class created must have these dunder functions, as it can be pretty useful..."
   ]
  },
  {
   "cell_type": "code",
   "execution_count": 112,
   "id": "af185784",
   "metadata": {},
   "outputs": [
    {
     "name": "stdout",
     "output_type": "stream",
     "text": [
      "3\n",
      "Club 3\n",
      "Anne\n"
     ]
    }
   ],
   "source": [
    "class Club:\n",
    "    \n",
    "    def __init__(self, name):\n",
    "        self.name = name\n",
    "        self.players = []\n",
    "        \n",
    "    def __len__(self):\n",
    "        return len(self.players)\n",
    "    \n",
    "    def __getitem__(self,i):\n",
    "        return self.players[i]\n",
    "    \n",
    "    def __str__(self):\n",
    "        return f\"Club {len(self.players)}\"\n",
    "        \n",
    "my_club = Club(\"Arsenal\")\n",
    "\n",
    "my_club.players.append(\"Rolf\")\n",
    "my_club.players.append(\"Anne\")\n",
    "my_club.players.append(\"Ross\")\n",
    "\n",
    "\n",
    "print(len(my_club))\n",
    "print(my_club)\n",
    "print(my_club.players[1])\n",
    "# print(Club.__getitems__(my_club,0))"
   ]
  },
  {
   "cell_type": "code",
   "execution_count": 89,
   "id": "44e9131e",
   "metadata": {},
   "outputs": [
    {
     "name": "stdout",
     "output_type": "stream",
     "text": [
      "2\n",
      "Club 2\n",
      "Rolf\n"
     ]
    }
   ],
   "source": []
  },
  {
   "cell_type": "code",
   "execution_count": 6,
   "id": "aafba83d",
   "metadata": {},
   "outputs": [],
   "source": [
    "#Task....\n",
    "# We have a class called Club, and it is initialized like this (no need to change):\n",
    "class Club:\n",
    "    def __init__(self, name):\n",
    "        self.name = name\n",
    "        self.players = []\n",
    "\n",
    "    # define a method that allows us to access the i-th player in the club directly via indexing.\n",
    "    # for example, if some_club is an object of Club class,\n",
    "    # we can access the i-th player in some_club like this (you may assume i is always valid):\n",
    "    # some_club[i]\n",
    "\n",
    "\n",
    "    # define a method that returns a string representation of this object,\n",
    "    # which can be used to recreate this object.\n",
    "    # The return value should be in such format (beware of the spacing):\n",
    "    # Club {club_name}: {list_of_players}\n",
    "    # the club_name and list_of_players should be replaced by the according value of current object\n",
    "\n",
    "\n",
    "    # define a method that returns a readable string representation of this object for the user.\n",
    "    # The return value should be in such format (beware of the spacing):\n",
    "    # Club {club_name} with {count_of_players} players\n",
    "    # the club_name and count_of_players should be replaced by the according value of current object\n",
    "\n",
    "\n",
    "# You only need to finish the methods, we will take care of the object creation and call those methods for you!"
   ]
  },
  {
   "cell_type": "code",
   "execution_count": 113,
   "id": "ad0a4695",
   "metadata": {},
   "outputs": [
    {
     "name": "stdout",
     "output_type": "stream",
     "text": [
      "3\n",
      "Club Arsenal with 3 players\n",
      "Rolf\n"
     ]
    }
   ],
   "source": [
    "class Club:\n",
    "    def __init__(self, name):\n",
    "        self.name = name\n",
    "        self.players = []\n",
    "        \n",
    "    def __len__(self):\n",
    "        return len(self.players)\n",
    "\n",
    "    def __getitem__(self, i):\n",
    "        return self.players[i]\n",
    "    \n",
    "    def __repr__(self):\n",
    "        return f\"Club {self.name}: {self.players}\"\n",
    "    \n",
    "    def __str__(self):\n",
    "        return f\"Club {self.name} with {len(self)} players\"\n",
    "    \n",
    "\n",
    "my_club = Club(\"Arsenal\")\n",
    "\n",
    "my_club.players.append(\"Rolf\")\n",
    "my_club.players.append(\"Anne\")\n",
    "my_club.players.append(\"Ross\")\n",
    "\n",
    "print(len(my_club))\n",
    "print(my_club)\n",
    "print(my_club[0])\n",
    "# print(Club.__getitems__(my_club,0))"
   ]
  },
  {
   "cell_type": "markdown",
   "id": "0000d708",
   "metadata": {},
   "source": [
    "# inheritance"
   ]
  },
  {
   "cell_type": "code",
   "execution_count": 124,
   "id": "1047c9d6",
   "metadata": {},
   "outputs": [
    {
     "name": "stdout",
     "output_type": "stream",
     "text": [
      "15.5\n",
      "[45]\n",
      "45.0\n"
     ]
    }
   ],
   "source": [
    "class Student: \n",
    "    def __init__(self,name,school):  \n",
    "        self.name = name\n",
    "        self.school = school\n",
    "        self.marks = []\n",
    "        \n",
    "    def average(self):\n",
    "        return sum(self.marks)/len(self.marks)\n",
    "    \n",
    "    \n",
    "class Workingstudent:  \n",
    "    def __init__(self,name,school,salary):  \n",
    "        self.name = name\n",
    "        self.school = school\n",
    "        self.marks = []\n",
    "        self.salary = salary\n",
    "    \n",
    "    def average(self):\n",
    "        return sum(self.marks)/len(self.marks)\n",
    "\n",
    "rolf = Workingstudent(\"rolf\",\"MIT\",15.50)\n",
    "print(rolf.salary)\n",
    "\n",
    "rolf.marks.append(45)\n",
    "print(rolf.marks)\n",
    "print(rolf.average())"
   ]
  },
  {
   "cell_type": "code",
   "execution_count": 133,
   "id": "c5e4c568",
   "metadata": {},
   "outputs": [
    {
     "name": "stdout",
     "output_type": "stream",
     "text": [
      "15.5\n",
      "[45, 57, 60]\n",
      "54.0\n",
      "108.5\n"
     ]
    },
    {
     "ename": "AttributeError",
     "evalue": "'Student' object has no attribute 'weekly_salary'",
     "output_type": "error",
     "traceback": [
      "\u001b[1;31m---------------------------------------------------------------------------\u001b[0m",
      "\u001b[1;31mAttributeError\u001b[0m                            Traceback (most recent call last)",
      "\u001b[1;32m~\\AppData\\Local\\Temp\\ipykernel_16192\\3464162863.py\u001b[0m in \u001b[0;36m<module>\u001b[1;34m\u001b[0m\n\u001b[0;32m     31\u001b[0m \u001b[0manna\u001b[0m \u001b[1;33m=\u001b[0m \u001b[0mStudent\u001b[0m\u001b[1;33m(\u001b[0m\u001b[1;34m\"anna\"\u001b[0m\u001b[1;33m,\u001b[0m\u001b[1;34m\"oxford\"\u001b[0m\u001b[1;33m)\u001b[0m\u001b[1;33m\u001b[0m\u001b[1;33m\u001b[0m\u001b[0m\n\u001b[0;32m     32\u001b[0m \u001b[1;33m\u001b[0m\u001b[0m\n\u001b[1;32m---> 33\u001b[1;33m \u001b[0mprint\u001b[0m\u001b[1;33m(\u001b[0m\u001b[0manna\u001b[0m\u001b[1;33m.\u001b[0m\u001b[0mweekly_salary\u001b[0m\u001b[1;33m(\u001b[0m\u001b[1;33m)\u001b[0m\u001b[1;33m)\u001b[0m\u001b[1;33m\u001b[0m\u001b[1;33m\u001b[0m\u001b[0m\n\u001b[0m",
      "\u001b[1;31mAttributeError\u001b[0m: 'Student' object has no attribute 'weekly_salary'"
     ]
    }
   ],
   "source": [
    "class Student: \n",
    "    def __init__(self,name,school):  \n",
    "        self.name = name\n",
    "        self.school = school\n",
    "        self.marks = []\n",
    "        \n",
    "    def average(self):\n",
    "        return sum(self.marks)/len(self.marks)\n",
    "    \n",
    "    \n",
    "class Workingstudent(Student):                   # Working class is a child of student..\n",
    "    def __init__(self,name,school,salary):  \n",
    "        super().__init__(name,school)            # super is used to call init function from parent class.\n",
    "        self.salary = salary                     # this needs to be intialized..\n",
    "        \n",
    "    def weekly_salary(self):\n",
    "        return self.salary * 7\n",
    "\n",
    "rolf = Workingstudent(\"rolf\",\"MIT\",15.50)\n",
    "print(rolf.salary)\n",
    "\n",
    "rolf.marks.append(45)                            # child class accessing init function of parent class. --super()\n",
    "rolf.marks.append(57)\n",
    "rolf.marks.append(60)\n",
    "\n",
    "print(rolf.marks)\n",
    "print(rolf.average())                            # here child class accessing methods from parent class.\n",
    "\n",
    "print(rolf.weekly_salary())\n",
    "\n",
    "anna = Student(\"anna\",\"oxford\")\n",
    "\n",
    "print(anna.weekly_salary())      # gives error as object of Student class cannot access methods in workingstudent class.\n",
    "\n",
    "# Student class - parent class\n",
    "# workingstudent class - child class\n",
    "\n",
    "# workingstudent class can access every method of student class, and student class cannot access any methods from workingstudent"
   ]
  },
  {
   "cell_type": "code",
   "execution_count": 134,
   "id": "ccbba4c2",
   "metadata": {},
   "outputs": [],
   "source": [
    "# property decorators"
   ]
  },
  {
   "cell_type": "code",
   "execution_count": 137,
   "id": "4c303262",
   "metadata": {},
   "outputs": [
    {
     "name": "stdout",
     "output_type": "stream",
     "text": [
      "108.5\n"
     ]
    }
   ],
   "source": [
    "class Student: \n",
    "    def __init__(self,name,school):  \n",
    "        self.name = name\n",
    "        self.school = school\n",
    "        self.marks = []\n",
    "        \n",
    "    def average(self):\n",
    "        return sum(self.marks)/len(self.marks)\n",
    "    \n",
    "    \n",
    "class Workingstudent(Student):       \n",
    "    def __init__(self,name,school,salary):  \n",
    "        super().__init__(name,school)\n",
    "        self.salary = salary\n",
    "        \n",
    "    def weekly_salary(self):\n",
    "        return self.salary * 7\n",
    "\n",
    "rolf = Workingstudent(\"rolf\",\"MIT\",15.50)\n",
    "\n",
    "print(rolf.weekly_salary()) \n",
    "\n",
    "# Note all the things defines in __init__ dunder method are called the \"property\" of the object.\n",
    "# so when we access the information inside the property we just write \"object.property\"\n",
    "# the methods have to be accessed with brackets after that - \"objects.method()\"\n",
    "# \"objects.method\" - this will give error.."
   ]
  },
  {
   "cell_type": "code",
   "execution_count": 140,
   "id": "891b2bb5",
   "metadata": {},
   "outputs": [
    {
     "name": "stdout",
     "output_type": "stream",
     "text": [
      "108.5\n"
     ]
    }
   ],
   "source": [
    "class Student: \n",
    "    def __init__(self,name,school):  \n",
    "        self.name = name\n",
    "        self.school = school\n",
    "        self.marks = []\n",
    "        \n",
    "    def average(self):\n",
    "        return sum(self.marks)/len(self.marks)\n",
    "    \n",
    "    \n",
    "class Workingstudent(Student):       \n",
    "    def __init__(self,name,school,salary):  \n",
    "        super().__init__(name,school)\n",
    "        self.salary = salary\n",
    "    \n",
    "    @property                                     # decorator, now with this below method can be accessed as an property.\n",
    "    def weekly_salary(self):\n",
    "        return self.salary * 7\n",
    "\n",
    "rolf = Workingstudent(\"rolf\",\"MIT\",15.50)\n",
    "print(rolf.weekly_salary) \n",
    "\n",
    "# an decorator makes  an method to accessable just like an property.."
   ]
  },
  {
   "cell_type": "code",
   "execution_count": 1,
   "id": "d209266c",
   "metadata": {},
   "outputs": [
    {
     "name": "stdout",
     "output_type": "stream",
     "text": [
      "57.0\n"
     ]
    }
   ],
   "source": [
    "class Student:\n",
    "    def __init__(self, name, school):\n",
    "        self.name = name\n",
    "        self.school = school\n",
    "        self.marks = []\n",
    " \n",
    "    @property\n",
    "    def average(self):\n",
    "        return sum(self.marks) / len(self.marks)\n",
    "\n",
    "class WorkingStudent(Student):\n",
    "    def __init__(self, name, school, salary):\n",
    "        super().__init__(name, school)\n",
    "        self.salary = salary\n",
    " \n",
    " \n",
    "rolf = WorkingStudent(\"Rolf\", \"MIT\", 15.50)\n",
    "rolf.marks.append(57)\n",
    " \n",
    "print(rolf.average)"
   ]
  },
  {
   "cell_type": "code",
   "execution_count": 142,
   "id": "57be7474",
   "metadata": {},
   "outputs": [],
   "source": [
    "# classmethods and static methods.."
   ]
  },
  {
   "cell_type": "code",
   "execution_count": 8,
   "id": "fd67ce38",
   "metadata": {},
   "outputs": [
    {
     "name": "stdout",
     "output_type": "stream",
     "text": [
      "87.0\n",
      "Foo\n",
      "Hello i dont take arguments.\n"
     ]
    }
   ],
   "source": [
    "# this typical class declaration and then accessing them is basically instance method\n",
    "# all the above codes were all instance method, ie we create an object for a class and then access methods from that class.\n",
    "class Student:\n",
    "    def __init__(self, name, school):\n",
    "        self.name = name\n",
    "        self.school = school\n",
    "        self.marks = []\n",
    "        \n",
    "    def average(self):\n",
    "        return sum(self.marks) / len(self.marks)\n",
    "\n",
    "rolf = Student(\"rolf\",\"mit\")\n",
    "rolf.marks.append(75)\n",
    "rolf.marks.append(99)\n",
    "\n",
    "print(rolf.average())   # instance method..\n",
    "\n",
    "# basic syntax of class and static method...\n",
    "\n",
    "# class method\n",
    "class Foo:\n",
    "    @classmethod        # decorator\n",
    "    def hi(cls):\n",
    "        print(cls.__name__)\n",
    "\n",
    "my_object = Foo()\n",
    "my_object.hi()\n",
    "\n",
    "# static method\n",
    "class bar:\n",
    "    @staticmethod\n",
    "    def hi():\n",
    "        print(\"Hello i dont take arguments.\")\n",
    "        \n",
    "another_object = bar()\n",
    "another_object.hi()\n",
    "\n",
    "\n",
    "# note a class doesnot need to have an init method compulsarily..we can ignore an init method and define a class."
   ]
  },
  {
   "cell_type": "code",
   "execution_count": 17,
   "id": "7f88f3be",
   "metadata": {},
   "outputs": [
    {
     "name": "stdout",
     "output_type": "stream",
     "text": [
      "<fixedfloat 38.00>\n",
      "<fixedfloat 18.56>\n"
     ]
    }
   ],
   "source": [
    "class  fixedfloat:\n",
    "    def __init__(self,amount):\n",
    "        self.amount = amount\n",
    "    \n",
    "    def __repr__(self):\n",
    "        return f\"<fixedfloat {self.amount:.2f}>\"\n",
    "    \n",
    "    def from_sum(self,value1,value2):\n",
    "        return fixedfloat(value1+value2)    # this line will compute and return repr method of fixedfloat...\n",
    "    \n",
    "number = fixedfloat(18.564)\n",
    "new_number = number.from_sum(18.5,19.5) #object.method(val1,val2) \n",
    "# returns the value of the class, here class returns the value amount, val1+val2 = amount from init function,\n",
    "# since there is repr method, if we print the object of the class it will print the value in repr function..\n",
    "# which is the result...\n",
    "\n",
    "print(new_number)\n",
    "print(number)\n",
    "\n",
    "# note here inorder to compute 2 values and get the return type of fixedfloat, we are to create an object and then,\n",
    "#  use the same object to call from_sum method and then obtain result,\n",
    "# can this be done without calling a object,,?? - yes ans is stasticmethod."
   ]
  },
  {
   "cell_type": "code",
   "execution_count": 22,
   "id": "dd332d28",
   "metadata": {},
   "outputs": [
    {
     "name": "stdout",
     "output_type": "stream",
     "text": [
      "<fixedfloat 38.00>\n"
     ]
    }
   ],
   "source": [
    "class  fixedfloat:\n",
    "    def __init__(self,amount):\n",
    "        self.amount = amount\n",
    "    \n",
    "    def __repr__(self):\n",
    "        return f\"<fixedfloat {self.amount:.2f}>\"\n",
    "    \n",
    "    @staticmethod\n",
    "    def from_sum(value1,value2):\n",
    "        return fixedfloat(value1+value2)\n",
    "\n",
    "new_number = fixedfloat.from_sum(18.5,19.5) #we can call the method from class directly. here we are indirectly calling \n",
    "                                            # init method through from_sum method...\n",
    "\n",
    "print(new_number)"
   ]
  },
  {
   "cell_type": "code",
   "execution_count": 5,
   "id": "1cf65a4e",
   "metadata": {},
   "outputs": [
    {
     "name": "stdout",
     "output_type": "stream",
     "text": [
      "<Euro $19.67>\n",
      "<fixedfloat 19.28>\n"
     ]
    }
   ],
   "source": [
    "class  fixedfloat:\n",
    "    def __init__(self,amount):\n",
    "        self.amount = amount\n",
    "    \n",
    "    def __repr__(self):\n",
    "        return f\"<fixedfloat {self.amount:.2f}>\"\n",
    "    \n",
    "    @staticmethod\n",
    "    def from_sum(value1,value2):\n",
    "        return fixedfloat(value1+value2)\n",
    "\n",
    "# new_number = fixedfloat.from_sum(18.5,19.5)\n",
    "# print(new_number)\n",
    "\n",
    "class euro(fixedfloat):\n",
    "    def __init__(self,amount):\n",
    "        super().__init__(amount)\n",
    "        self.symbol = \"$\"\n",
    "        \n",
    "    def __repr__(self):\n",
    "        return f\"<Euro {self.symbol}{self.amount:.2f}>\"\n",
    "\n",
    "number = euro(19.667) #euro  object..\n",
    "print(number)\n",
    "\n",
    "new_number  = euro.from_sum(18.5,0.776) # this is not expected result.\n",
    "print(new_number)\n",
    "\n",
    "# here we want to use from_sum method from fixedfloat class and result should be from repr method of euro...\n",
    "# here this bug can be resolved by using classmethod decorater...\n",
    "# see below..."
   ]
  },
  {
   "cell_type": "code",
   "execution_count": 31,
   "id": "4c4c784a",
   "metadata": {},
   "outputs": [
    {
     "name": "stdout",
     "output_type": "stream",
     "text": [
      "<Euro $19.67>\n",
      "<Euro $19.28>\n",
      "<fixedfloat 19.28>\n"
     ]
    }
   ],
   "source": [
    "class  fixedfloat:\n",
    "    def __init__(self,amount):\n",
    "        self.amount = amount\n",
    "    \n",
    "    def __repr__(self):\n",
    "        return f\"<fixedfloat {self.amount:.2f}>\"\n",
    "    \n",
    "    @classmethod\n",
    "    def from_sum(cls,value1,value2):\n",
    "        return cls(value1+value2)\n",
    "\n",
    "# new_number = fixedfloat.from_sum(18.5,19.5)\n",
    "# print(new_number)\n",
    "\n",
    "class euro(fixedfloat):\n",
    "    def __init__(self,amount):\n",
    "        super().__init__(amount)\n",
    "        self.symbol = \"$\"\n",
    "        \n",
    "    def __repr__(self):\n",
    "        return f\"<Euro {self.symbol}{self.amount:.2f}>\"\n",
    "\n",
    "number = euro(19.667)\n",
    "print(number)\n",
    "\n",
    "money1  = euro.from_sum(18.5,0.776) # here classmethod is accessed from which ever class we call from..\n",
    "print(money1)\n",
    "\n",
    "money2  = fixedfloat.from_sum(18.5,0.776) # here classmethod is accessed from which ever class we call from..\n",
    "print(money2)\n",
    "\n",
    "# Note:\n",
    "# classmethod is always,defined in parentclass, classfunction is used to obtain operations of class that we call.\n",
    "# here from_sum is an class method in parent class- which can be accessed by child class.\n",
    "# here from_sum is an class method, it takes values from the class it is passed, and return value \n",
    "#                                                                  -is the computed result of that class as defined.\n",
    "# if we call from_sum through fixedfloat it returns results of fixedfloat and vice versa.\n",
    "# it is made this way so that it can be accessed by any child class independent of object.\n",
    "# an object when created it is restricted to one and only class, hence decoraters like classmethod is used..\n",
    "\n",
    "# important..\n",
    "# y class method vs static method..\n",
    "# staticmethod decorater, is used to make methods calling independent object for class.\n",
    "# classmethod is used in case of inheritance,i,e an method accesing is made independent of an object just like staticmethod,\n",
    "#  - but this accessibility is not limited to a particular class,we can access all the methods of parentclass through childclass,\n",
    "#  - this is made possible because of inheritance., so use classmeethods when there is inheritance...\n",
    "\n",
    "# staticmethod has less functionality, we could use classmethod most of the time..."
   ]
  },
  {
   "cell_type": "code",
   "execution_count": 7,
   "id": "18e2e53a",
   "metadata": {},
   "outputs": [
    {
     "ename": "TypeError",
     "evalue": "from_sum() missing 1 required positional argument: 'value2'",
     "output_type": "error",
     "traceback": [
      "\u001b[1;31m---------------------------------------------------------------------------\u001b[0m",
      "\u001b[1;31mTypeError\u001b[0m                                 Traceback (most recent call last)",
      "\u001b[1;32m~\\AppData\\Local\\Temp\\ipykernel_19360\\3868537251.py\u001b[0m in \u001b[0;36m<module>\u001b[1;34m\u001b[0m\n\u001b[0;32m     12\u001b[0m \u001b[1;31m# unless you are using stasticmethod or classmethod..\u001b[0m\u001b[1;33m\u001b[0m\u001b[1;33m\u001b[0m\u001b[0m\n\u001b[0;32m     13\u001b[0m \u001b[1;33m\u001b[0m\u001b[0m\n\u001b[1;32m---> 14\u001b[1;33m \u001b[0mnew_number\u001b[0m \u001b[1;33m=\u001b[0m \u001b[0mfixedfloat\u001b[0m\u001b[1;33m.\u001b[0m\u001b[0mfrom_sum\u001b[0m\u001b[1;33m(\u001b[0m\u001b[1;36m18.5\u001b[0m\u001b[1;33m,\u001b[0m\u001b[1;36m19.5\u001b[0m\u001b[1;33m)\u001b[0m \u001b[1;31m# this will give you error, object name is required for self argument from function..\u001b[0m\u001b[1;33m\u001b[0m\u001b[1;33m\u001b[0m\u001b[0m\n\u001b[0m\u001b[0;32m     15\u001b[0m \u001b[0mprint\u001b[0m\u001b[1;33m(\u001b[0m\u001b[0mnew_number\u001b[0m\u001b[1;33m)\u001b[0m\u001b[1;33m\u001b[0m\u001b[1;33m\u001b[0m\u001b[0m\n\u001b[0;32m     16\u001b[0m \u001b[1;33m\u001b[0m\u001b[0m\n",
      "\u001b[1;31mTypeError\u001b[0m: from_sum() missing 1 required positional argument: 'value2'"
     ]
    }
   ],
   "source": [
    "class  fixedfloat:\n",
    "    def __init__(self,amount):\n",
    "        self.amount = amount\n",
    "    \n",
    "    def __repr__(self):\n",
    "        return f\"<fixedfloat {self.amount:.2f}>\"\n",
    "\n",
    "    def from_sum(self,value1,value2):\n",
    "        return fixedfloat(value1+value2)\n",
    "\n",
    "# it is not possible to access  a method in a function without,calling an object,\n",
    "# unless you are using stasticmethod or classmethod..\n",
    "\n",
    "new_number = fixedfloat.from_sum(18.5,19.5) # this will give you error, object name is required for self argument from function..\n",
    "print(new_number)\n",
    "\n",
    "# or we could do like this..below"
   ]
  },
  {
   "cell_type": "code",
   "execution_count": 9,
   "id": "b35a4327",
   "metadata": {},
   "outputs": [
    {
     "name": "stdout",
     "output_type": "stream",
     "text": [
      "<fixedfloat 38.00>\n",
      "This is Possible\n"
     ]
    }
   ],
   "source": [
    "class  fixedfloat:\n",
    "    def __init__(self,amount):\n",
    "        self.amount = amount\n",
    "    \n",
    "    def __repr__(self):\n",
    "        return f\"<fixedfloat {self.amount:.2f}>\"\n",
    "\n",
    "    def from_sum(value1,value2):\n",
    "        return fixedfloat(value1+value2)\n",
    "    \n",
    "    def new_opp():\n",
    "        return f\"This is Possible\"\n",
    "\n",
    "val1 = fixedfloat.from_sum(18.5,19.5)\n",
    "val2 = fixedfloat.new_opp()\n",
    "\n",
    "print(val1)\n",
    "print(val2)\n",
    "\n",
    "# or like this.. without init function..."
   ]
  },
  {
   "cell_type": "code",
   "execution_count": 10,
   "id": "53540cf3",
   "metadata": {},
   "outputs": [
    {
     "name": "stdout",
     "output_type": "stream",
     "text": [
      "This is Possible\n",
      "<bound method fixedfloat.new_opp of <__main__.fixedfloat object at 0x0000023EFD733B20>>\n"
     ]
    }
   ],
   "source": [
    "class  fixedfloat:\n",
    "    \n",
    "    def new_opp():\n",
    "        return f\"This is Possible\"\n",
    "\n",
    "val2 = fixedfloat.new_opp()\n",
    "print(val2)\n",
    "\n",
    "# a class with no init ..\n",
    "# we could still create a object and use its methods..we could create multiple classes and establish inheritance...\n",
    " \n",
    "obj = fixedfloat()\n",
    "print(obj.new_opp)"
   ]
  },
  {
   "cell_type": "code",
   "execution_count": null,
   "id": "47316e30",
   "metadata": {},
   "outputs": [],
   "source": []
  },
  {
   "cell_type": "code",
   "execution_count": null,
   "id": "46bf730d",
   "metadata": {},
   "outputs": [],
   "source": []
  }
 ],
 "metadata": {
  "kernelspec": {
   "display_name": "Python 3 (ipykernel)",
   "language": "python",
   "name": "python3"
  },
  "language_info": {
   "codemirror_mode": {
    "name": "ipython",
    "version": 3
   },
   "file_extension": ".py",
   "mimetype": "text/x-python",
   "name": "python",
   "nbconvert_exporter": "python",
   "pygments_lexer": "ipython3",
   "version": "3.9.13"
  }
 },
 "nbformat": 4,
 "nbformat_minor": 5
}
